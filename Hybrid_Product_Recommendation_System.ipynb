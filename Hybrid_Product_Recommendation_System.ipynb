{
  "nbformat": 4,
  "nbformat_minor": 0,
  "metadata": {
    "colab": {
      "provenance": [],
      "gpuType": "T4"
    },
    "kernelspec": {
      "name": "python3",
      "display_name": "Python 3"
    },
    "language_info": {
      "name": "python"
    },
    "accelerator": "GPU",
    "widgets": {
      "application/vnd.jupyter.widget-state+json": {
        "330f8b2b80914b30b4b401dd1dd8a836": {
          "model_module": "@jupyter-widgets/controls",
          "model_name": "TextModel",
          "model_module_version": "1.5.0",
          "state": {
            "_dom_classes": [],
            "_model_module": "@jupyter-widgets/controls",
            "_model_module_version": "1.5.0",
            "_model_name": "TextModel",
            "_view_count": null,
            "_view_module": "@jupyter-widgets/controls",
            "_view_module_version": "1.5.0",
            "_view_name": "TextView",
            "continuous_update": true,
            "description": "Enter Customer ID:",
            "description_tooltip": null,
            "disabled": false,
            "layout": "IPY_MODEL_dd24a03d8bef45d9a5728fc8418751d1",
            "placeholder": "e.g., e33c250311160298e5b457ca52720a35",
            "style": "IPY_MODEL_67399f00050e4c60a2a6016b3084b4ec",
            "value": "123456"
          }
        },
        "dd24a03d8bef45d9a5728fc8418751d1": {
          "model_module": "@jupyter-widgets/base",
          "model_name": "LayoutModel",
          "model_module_version": "1.2.0",
          "state": {
            "_model_module": "@jupyter-widgets/base",
            "_model_module_version": "1.2.0",
            "_model_name": "LayoutModel",
            "_view_count": null,
            "_view_module": "@jupyter-widgets/base",
            "_view_module_version": "1.2.0",
            "_view_name": "LayoutView",
            "align_content": null,
            "align_items": null,
            "align_self": null,
            "border": null,
            "bottom": null,
            "display": null,
            "flex": null,
            "flex_flow": null,
            "grid_area": null,
            "grid_auto_columns": null,
            "grid_auto_flow": null,
            "grid_auto_rows": null,
            "grid_column": null,
            "grid_gap": null,
            "grid_row": null,
            "grid_template_areas": null,
            "grid_template_columns": null,
            "grid_template_rows": null,
            "height": null,
            "justify_content": null,
            "justify_items": null,
            "left": null,
            "margin": null,
            "max_height": null,
            "max_width": null,
            "min_height": null,
            "min_width": null,
            "object_fit": null,
            "object_position": null,
            "order": null,
            "overflow": null,
            "overflow_x": null,
            "overflow_y": null,
            "padding": null,
            "right": null,
            "top": null,
            "visibility": null,
            "width": null
          }
        },
        "67399f00050e4c60a2a6016b3084b4ec": {
          "model_module": "@jupyter-widgets/controls",
          "model_name": "DescriptionStyleModel",
          "model_module_version": "1.5.0",
          "state": {
            "_model_module": "@jupyter-widgets/controls",
            "_model_module_version": "1.5.0",
            "_model_name": "DescriptionStyleModel",
            "_view_count": null,
            "_view_module": "@jupyter-widgets/base",
            "_view_module_version": "1.2.0",
            "_view_name": "StyleView",
            "description_width": ""
          }
        },
        "268726e2eef14a8e908c64ea80b96e6a": {
          "model_module": "@jupyter-widgets/controls",
          "model_name": "ButtonModel",
          "model_module_version": "1.5.0",
          "state": {
            "_dom_classes": [],
            "_model_module": "@jupyter-widgets/controls",
            "_model_module_version": "1.5.0",
            "_model_name": "ButtonModel",
            "_view_count": null,
            "_view_module": "@jupyter-widgets/controls",
            "_view_module_version": "1.5.0",
            "_view_name": "ButtonView",
            "button_style": "",
            "description": "Get Recommendations",
            "disabled": false,
            "icon": "",
            "layout": "IPY_MODEL_a63d0c0d68214a1e843ca81910e8278d",
            "style": "IPY_MODEL_b12bd641543948d9a85532f98aa84ffd",
            "tooltip": ""
          }
        },
        "a63d0c0d68214a1e843ca81910e8278d": {
          "model_module": "@jupyter-widgets/base",
          "model_name": "LayoutModel",
          "model_module_version": "1.2.0",
          "state": {
            "_model_module": "@jupyter-widgets/base",
            "_model_module_version": "1.2.0",
            "_model_name": "LayoutModel",
            "_view_count": null,
            "_view_module": "@jupyter-widgets/base",
            "_view_module_version": "1.2.0",
            "_view_name": "LayoutView",
            "align_content": null,
            "align_items": null,
            "align_self": null,
            "border": null,
            "bottom": null,
            "display": null,
            "flex": null,
            "flex_flow": null,
            "grid_area": null,
            "grid_auto_columns": null,
            "grid_auto_flow": null,
            "grid_auto_rows": null,
            "grid_column": null,
            "grid_gap": null,
            "grid_row": null,
            "grid_template_areas": null,
            "grid_template_columns": null,
            "grid_template_rows": null,
            "height": null,
            "justify_content": null,
            "justify_items": null,
            "left": null,
            "margin": null,
            "max_height": null,
            "max_width": null,
            "min_height": null,
            "min_width": null,
            "object_fit": null,
            "object_position": null,
            "order": null,
            "overflow": null,
            "overflow_x": null,
            "overflow_y": null,
            "padding": null,
            "right": null,
            "top": null,
            "visibility": null,
            "width": null
          }
        },
        "b12bd641543948d9a85532f98aa84ffd": {
          "model_module": "@jupyter-widgets/controls",
          "model_name": "ButtonStyleModel",
          "model_module_version": "1.5.0",
          "state": {
            "_model_module": "@jupyter-widgets/controls",
            "_model_module_version": "1.5.0",
            "_model_name": "ButtonStyleModel",
            "_view_count": null,
            "_view_module": "@jupyter-widgets/base",
            "_view_module_version": "1.2.0",
            "_view_name": "StyleView",
            "button_color": null,
            "font_weight": ""
          }
        },
        "e0691d0a683b480998a49c8461014873": {
          "model_module": "@jupyter-widgets/output",
          "model_name": "OutputModel",
          "model_module_version": "1.0.0",
          "state": {
            "_dom_classes": [],
            "_model_module": "@jupyter-widgets/output",
            "_model_module_version": "1.0.0",
            "_model_name": "OutputModel",
            "_view_count": null,
            "_view_module": "@jupyter-widgets/output",
            "_view_module_version": "1.0.0",
            "_view_name": "OutputView",
            "layout": "IPY_MODEL_320127a3cb584982aee9e641b2acb731",
            "msg_id": "",
            "outputs": [
              {
                "output_type": "stream",
                "name": "stdout",
                "text": [
                  "Top 5 recommended products for customer 123456:\n",
                  "fff9553ac224cec9d15d49f5a263411f - fashion_bolsas_e_acessorios\n",
                  "fff8283df07f62d009091911282c2cd8 - beleza_saude\n",
                  "ffeb228c521d5464d1f71444da96c446 - telefonia\n",
                  "ffe9468f4d890db80b7231e86931ff37 - brinquedos\n",
                  "0018cb6cc0385ccf2a62803274b0ea11 - beleza_saude\n"
                ]
              }
            ]
          }
        },
        "320127a3cb584982aee9e641b2acb731": {
          "model_module": "@jupyter-widgets/base",
          "model_name": "LayoutModel",
          "model_module_version": "1.2.0",
          "state": {
            "_model_module": "@jupyter-widgets/base",
            "_model_module_version": "1.2.0",
            "_model_name": "LayoutModel",
            "_view_count": null,
            "_view_module": "@jupyter-widgets/base",
            "_view_module_version": "1.2.0",
            "_view_name": "LayoutView",
            "align_content": null,
            "align_items": null,
            "align_self": null,
            "border": null,
            "bottom": null,
            "display": null,
            "flex": null,
            "flex_flow": null,
            "grid_area": null,
            "grid_auto_columns": null,
            "grid_auto_flow": null,
            "grid_auto_rows": null,
            "grid_column": null,
            "grid_gap": null,
            "grid_row": null,
            "grid_template_areas": null,
            "grid_template_columns": null,
            "grid_template_rows": null,
            "height": null,
            "justify_content": null,
            "justify_items": null,
            "left": null,
            "margin": null,
            "max_height": null,
            "max_width": null,
            "min_height": null,
            "min_width": null,
            "object_fit": null,
            "object_position": null,
            "order": null,
            "overflow": null,
            "overflow_x": null,
            "overflow_y": null,
            "padding": null,
            "right": null,
            "top": null,
            "visibility": null,
            "width": null
          }
        }
      }
    }
  },
  "cells": [
    {
      "cell_type": "markdown",
      "source": [
        "# Install Libraries"
      ],
      "metadata": {
        "id": "AtQ10sar8yhL"
      }
    },
    {
      "cell_type": "code",
      "execution_count": null,
      "metadata": {
        "colab": {
          "base_uri": "https://localhost:8080/"
        },
        "id": "K8kiga6E77Qh",
        "outputId": "ed2e8977-b831-45b0-8ffe-99e1e4ccf595"
      },
      "outputs": [
        {
          "output_type": "stream",
          "name": "stdout",
          "text": [
            "Requirement already satisfied: scikit-surprise in /usr/local/lib/python3.10/dist-packages (1.1.4)\n",
            "Requirement already satisfied: joblib>=1.2.0 in /usr/local/lib/python3.10/dist-packages (from scikit-surprise) (1.4.2)\n",
            "Requirement already satisfied: numpy>=1.19.5 in /usr/local/lib/python3.10/dist-packages (from scikit-surprise) (1.26.4)\n",
            "Requirement already satisfied: scipy>=1.6.0 in /usr/local/lib/python3.10/dist-packages (from scikit-surprise) (1.13.1)\n"
          ]
        }
      ],
      "source": [
        "pip install scikit-surprise"
      ]
    },
    {
      "cell_type": "markdown",
      "source": [
        "# Import Libraries"
      ],
      "metadata": {
        "id": "O0SP8NU981Ut"
      }
    },
    {
      "cell_type": "code",
      "source": [
        "import pandas as pd\n",
        "import numpy as np\n",
        "from sklearn.model_selection import train_test_split\n",
        "from sklearn.preprocessing import StandardScaler, LabelEncoder\n",
        "from surprise import Dataset, Reader, SVD\n",
        "from surprise.model_selection import train_test_split as surprise_split\n",
        "from surprise import accuracy\n",
        "from sklearn.feature_extraction.text import TfidfVectorizer\n",
        "from sklearn.metrics.pairwise import cosine_similarity\n",
        "from scipy.sparse import hstack, csr_matrix\n",
        "from tensorflow.keras.models import Model\n",
        "from tensorflow.keras.layers import Input, Embedding, Flatten, Dot, Dense, Concatenate"
      ],
      "metadata": {
        "id": "ZvqXncsB8lDx"
      },
      "execution_count": null,
      "outputs": []
    },
    {
      "cell_type": "markdown",
      "source": [
        "# Load Data"
      ],
      "metadata": {
        "id": "Np3RgvRB83Kz"
      }
    },
    {
      "cell_type": "code",
      "source": [
        "file_path = '/content/ADM_Proj.csv'\n",
        "data = pd.read_csv(file_path)"
      ],
      "metadata": {
        "id": "toAkS3Zk8tla"
      },
      "execution_count": null,
      "outputs": []
    },
    {
      "cell_type": "markdown",
      "source": [
        "# Sample Data"
      ],
      "metadata": {
        "id": "r7UGx4IN8-M6"
      }
    },
    {
      "cell_type": "code",
      "source": [
        "print(\"First few rows of the dataset:\")\n",
        "print(data.head())"
      ],
      "metadata": {
        "colab": {
          "base_uri": "https://localhost:8080/"
        },
        "id": "D8yIuJ_e89U8",
        "outputId": "fc6f8539-670e-4a32-8544-10c5574b9beb"
      },
      "execution_count": null,
      "outputs": [
        {
          "output_type": "stream",
          "name": "stdout",
          "text": [
            "First few rows of the dataset:\n",
            "                           order_id order_status  order_products_value  \\\n",
            "0  b95df3cef5297e79ef709ba256518f6f    delivered                349.90   \n",
            "1  59af46052a799e80e2f0c665c587731d    delivered                 15.00   \n",
            "2  a3e6136894621db402a772c6bc72a12a    delivered                238.90   \n",
            "3  b675ea5a618922f6e679e30531b8957b    delivered                 29.99   \n",
            "4  195a8be6794c487fe6cfbb97b7c61902    delivered                295.99   \n",
            "\n",
            "   order_freight_value  order_items_qty  order_sellers_qty  \\\n",
            "0                13.84                1                  1   \n",
            "1                15.10                1                  1   \n",
            "2                18.00                1                  1   \n",
            "3                18.23                1                  1   \n",
            "4                47.65                1                  1   \n",
            "\n",
            "  order_purchase_timestamp order_aproved_at order_estimated_delivery_date  \\\n",
            "0                  19:01.0          41:21.5                       00:00.0   \n",
            "1                  52:54.0          03:31.5                       00:00.0   \n",
            "2                  00:09.0          31:25.4                       00:00.0   \n",
            "3                  18:36.0          30:37.9                       00:00.0   \n",
            "4                  01:08.0          05:40.4                       00:00.0   \n",
            "\n",
            "  order_delivered_customer_date  ... product_name_lenght  \\\n",
            "0                       04:24.2  ...                  51   \n",
            "1                       17:41.3  ...                  44   \n",
            "2                       43:04.8  ...                  55   \n",
            "3                       36:43.8  ...                  55   \n",
            "4                       47:45.7  ...                  49   \n",
            "\n",
            "  product_description_lenght product_photos_qty  \\\n",
            "0                        625                  1   \n",
            "1                       1428                  2   \n",
            "2                        637                  1   \n",
            "3                        617                  1   \n",
            "4                        558                  2   \n",
            "\n",
            "                         product_id                         review_id  \\\n",
            "0  6cdd53843498f92890544667809f1595  b95df3cef5297e79ef709ba256518f6f   \n",
            "1  ae5cad88462eb7b7b61401e31c45618e  59af46052a799e80e2f0c665c587731d   \n",
            "2  0c9ff9d8ed9b9bdd825487b3a66e05f5  a3e6136894621db402a772c6bc72a12a   \n",
            "3  ad0a798e7941f3a5a2fb8139cb62ad78  b675ea5a618922f6e679e30531b8957b   \n",
            "4  eaf2046d4c87809247a30050ea13df03  195a8be6794c487fe6cfbb97b7c61902   \n",
            "\n",
            "   review_score  review_comment_title  \\\n",
            "0             5                   NaN   \n",
            "1             5                   NaN   \n",
            "2             5                   NaN   \n",
            "3             4                   NaN   \n",
            "4             5                   NaN   \n",
            "\n",
            "                              review_comment_message review_creation_date  \\\n",
            "0                                                NaN              00:00.0   \n",
            "1  entrega em 2 dias produto c boa qualidade otim...              00:00.0   \n",
            "2  produto veio antes do prazo informado muito ob...              00:00.0   \n",
            "3                                                NaN              00:00.0   \n",
            "4                                                NaN              00:00.0   \n",
            "\n",
            "     review_answer_timestamp  \n",
            "0  2017-02-09 02:37:37+00:00  \n",
            "1  2017-09-15 03:43:47+00:00  \n",
            "2  2017-02-10 14:18:53+00:00  \n",
            "3  2018-04-05 02:52:31+00:00  \n",
            "4  2017-05-08 15:20:18+00:00  \n",
            "\n",
            "[5 rows x 25 columns]\n"
          ]
        }
      ]
    },
    {
      "cell_type": "markdown",
      "source": [
        "# Handling Missing Values"
      ],
      "metadata": {
        "id": "L_NHvM_Q9TiQ"
      }
    },
    {
      "cell_type": "code",
      "source": [
        "print(\"\\nData types and missing values:\")\n",
        "print(data.info())"
      ],
      "metadata": {
        "colab": {
          "base_uri": "https://localhost:8080/"
        },
        "id": "HpckRSQL9CSu",
        "outputId": "9fbb28d3-b9fb-4a53-d985-cd46b57abece"
      },
      "execution_count": null,
      "outputs": [
        {
          "output_type": "stream",
          "name": "stdout",
          "text": [
            "\n",
            "Data types and missing values:\n",
            "<class 'pandas.core.frame.DataFrame'>\n",
            "RangeIndex: 100000 entries, 0 to 99999\n",
            "Data columns (total 25 columns):\n",
            " #   Column                         Non-Null Count   Dtype  \n",
            "---  ------                         --------------   -----  \n",
            " 0   order_id                       100000 non-null  object \n",
            " 1   order_status                   100000 non-null  object \n",
            " 2   order_products_value           100000 non-null  float64\n",
            " 3   order_freight_value            100000 non-null  float64\n",
            " 4   order_items_qty                100000 non-null  int64  \n",
            " 5   order_sellers_qty              100000 non-null  int64  \n",
            " 6   order_purchase_timestamp       100000 non-null  object \n",
            " 7   order_aproved_at               99982 non-null   object \n",
            " 8   order_estimated_delivery_date  100000 non-null  object \n",
            " 9   order_delivered_customer_date  97595 non-null   object \n",
            " 10  customer_id                    100000 non-null  object \n",
            " 11  customer_city                  100000 non-null  object \n",
            " 12  customer_state                 100000 non-null  object \n",
            " 13  customer_zip_code_prefix       100000 non-null  int64  \n",
            " 14  product_category_name          100000 non-null  object \n",
            " 15  product_name_lenght            100000 non-null  int64  \n",
            " 16  product_description_lenght     100000 non-null  int64  \n",
            " 17  product_photos_qty             100000 non-null  int64  \n",
            " 18  product_id                     100000 non-null  object \n",
            " 19  review_id                      100000 non-null  object \n",
            " 20  review_score                   100000 non-null  int64  \n",
            " 21  review_comment_title           8262 non-null    object \n",
            " 22  review_comment_message         42489 non-null   object \n",
            " 23  review_creation_date           100000 non-null  object \n",
            " 24  review_answer_timestamp        100000 non-null  object \n",
            "dtypes: float64(2), int64(7), object(16)\n",
            "memory usage: 19.1+ MB\n",
            "None\n"
          ]
        }
      ]
    },
    {
      "cell_type": "code",
      "source": [
        "print(\"\\nSummary of missing values:\")\n",
        "print(data.isnull().sum())"
      ],
      "metadata": {
        "colab": {
          "base_uri": "https://localhost:8080/"
        },
        "id": "v5otjDQJ9Jfr",
        "outputId": "33c83b90-00a9-429a-b41a-241eeb79d424"
      },
      "execution_count": null,
      "outputs": [
        {
          "output_type": "stream",
          "name": "stdout",
          "text": [
            "\n",
            "Summary of missing values:\n",
            "order_id                             0\n",
            "order_status                         0\n",
            "order_products_value                 0\n",
            "order_freight_value                  0\n",
            "order_items_qty                      0\n",
            "order_sellers_qty                    0\n",
            "order_purchase_timestamp             0\n",
            "order_aproved_at                    18\n",
            "order_estimated_delivery_date        0\n",
            "order_delivered_customer_date     2405\n",
            "customer_id                          0\n",
            "customer_city                        0\n",
            "customer_state                       0\n",
            "customer_zip_code_prefix             0\n",
            "product_category_name                0\n",
            "product_name_lenght                  0\n",
            "product_description_lenght           0\n",
            "product_photos_qty                   0\n",
            "product_id                           0\n",
            "review_id                            0\n",
            "review_score                         0\n",
            "review_comment_title             91738\n",
            "review_comment_message           57511\n",
            "review_creation_date                 0\n",
            "review_answer_timestamp              0\n",
            "dtype: int64\n"
          ]
        }
      ]
    },
    {
      "cell_type": "code",
      "source": [
        "# Fill missing dates with placeholders or logical defaults\n",
        "data['order_aproved_at'].fillna(data['order_purchase_timestamp'], inplace=True)\n",
        "data['order_delivered_customer_date'].fillna('Not Delivered', inplace=True)"
      ],
      "metadata": {
        "colab": {
          "base_uri": "https://localhost:8080/"
        },
        "id": "aLfmYItM-NZs",
        "outputId": "f79914ae-a87e-4dd8-8b40-01323be112de"
      },
      "execution_count": null,
      "outputs": [
        {
          "output_type": "stream",
          "name": "stderr",
          "text": [
            "<ipython-input-50-cac46ef0f8a6>:2: FutureWarning: A value is trying to be set on a copy of a DataFrame or Series through chained assignment using an inplace method.\n",
            "The behavior will change in pandas 3.0. This inplace method will never work because the intermediate object on which we are setting values always behaves as a copy.\n",
            "\n",
            "For example, when doing 'df[col].method(value, inplace=True)', try using 'df.method({col: value}, inplace=True)' or df[col] = df[col].method(value) instead, to perform the operation inplace on the original object.\n",
            "\n",
            "\n",
            "  data['order_aproved_at'].fillna(data['order_purchase_timestamp'], inplace=True)\n",
            "<ipython-input-50-cac46ef0f8a6>:3: FutureWarning: A value is trying to be set on a copy of a DataFrame or Series through chained assignment using an inplace method.\n",
            "The behavior will change in pandas 3.0. This inplace method will never work because the intermediate object on which we are setting values always behaves as a copy.\n",
            "\n",
            "For example, when doing 'df[col].method(value, inplace=True)', try using 'df.method({col: value}, inplace=True)' or df[col] = df[col].method(value) instead, to perform the operation inplace on the original object.\n",
            "\n",
            "\n",
            "  data['order_delivered_customer_date'].fillna('Not Delivered', inplace=True)\n"
          ]
        }
      ]
    },
    {
      "cell_type": "code",
      "source": [
        "print(\"\\nSummary of missing values:\")\n",
        "print(data.isnull().sum())"
      ],
      "metadata": {
        "colab": {
          "base_uri": "https://localhost:8080/"
        },
        "id": "3bpaS4Ds-Q7B",
        "outputId": "d0599d8c-fdba-40a6-9aaf-2aaf0dedc1bd"
      },
      "execution_count": null,
      "outputs": [
        {
          "output_type": "stream",
          "name": "stdout",
          "text": [
            "\n",
            "Summary of missing values:\n",
            "order_id                             0\n",
            "order_status                         0\n",
            "order_products_value                 0\n",
            "order_freight_value                  0\n",
            "order_items_qty                      0\n",
            "order_sellers_qty                    0\n",
            "order_purchase_timestamp             0\n",
            "order_aproved_at                     0\n",
            "order_estimated_delivery_date        0\n",
            "order_delivered_customer_date        0\n",
            "customer_id                          0\n",
            "customer_city                        0\n",
            "customer_state                       0\n",
            "customer_zip_code_prefix             0\n",
            "product_category_name                0\n",
            "product_name_lenght                  0\n",
            "product_description_lenght           0\n",
            "product_photos_qty                   0\n",
            "product_id                           0\n",
            "review_id                            0\n",
            "review_score                         0\n",
            "review_comment_title             91738\n",
            "review_comment_message           57511\n",
            "review_creation_date                 0\n",
            "review_answer_timestamp              0\n",
            "dtype: int64\n"
          ]
        }
      ]
    },
    {
      "cell_type": "code",
      "source": [
        "# Fill missing review fields with placeholders\n",
        "data['review_comment_title'].fillna('No Title', inplace=True)\n",
        "data['review_comment_message'].fillna('No Comment', inplace=True)"
      ],
      "metadata": {
        "colab": {
          "base_uri": "https://localhost:8080/"
        },
        "id": "z3sZwx4B-ZTp",
        "outputId": "bb617a10-0c00-45a5-c391-77e8f0ffcc68"
      },
      "execution_count": null,
      "outputs": [
        {
          "output_type": "stream",
          "name": "stderr",
          "text": [
            "<ipython-input-52-47f0f7fa7e55>:2: FutureWarning: A value is trying to be set on a copy of a DataFrame or Series through chained assignment using an inplace method.\n",
            "The behavior will change in pandas 3.0. This inplace method will never work because the intermediate object on which we are setting values always behaves as a copy.\n",
            "\n",
            "For example, when doing 'df[col].method(value, inplace=True)', try using 'df.method({col: value}, inplace=True)' or df[col] = df[col].method(value) instead, to perform the operation inplace on the original object.\n",
            "\n",
            "\n",
            "  data['review_comment_title'].fillna('No Title', inplace=True)\n",
            "<ipython-input-52-47f0f7fa7e55>:3: FutureWarning: A value is trying to be set on a copy of a DataFrame or Series through chained assignment using an inplace method.\n",
            "The behavior will change in pandas 3.0. This inplace method will never work because the intermediate object on which we are setting values always behaves as a copy.\n",
            "\n",
            "For example, when doing 'df[col].method(value, inplace=True)', try using 'df.method({col: value}, inplace=True)' or df[col] = df[col].method(value) instead, to perform the operation inplace on the original object.\n",
            "\n",
            "\n",
            "  data['review_comment_message'].fillna('No Comment', inplace=True)\n"
          ]
        }
      ]
    },
    {
      "cell_type": "code",
      "source": [
        "print(\"\\nSummary of missing values:\")\n",
        "print(data.isnull().sum())"
      ],
      "metadata": {
        "colab": {
          "base_uri": "https://localhost:8080/"
        },
        "id": "sWIr_5cu-bdk",
        "outputId": "ff797bbd-8047-40bf-c8a7-0fc01b7bd254"
      },
      "execution_count": null,
      "outputs": [
        {
          "output_type": "stream",
          "name": "stdout",
          "text": [
            "\n",
            "Summary of missing values:\n",
            "order_id                         0\n",
            "order_status                     0\n",
            "order_products_value             0\n",
            "order_freight_value              0\n",
            "order_items_qty                  0\n",
            "order_sellers_qty                0\n",
            "order_purchase_timestamp         0\n",
            "order_aproved_at                 0\n",
            "order_estimated_delivery_date    0\n",
            "order_delivered_customer_date    0\n",
            "customer_id                      0\n",
            "customer_city                    0\n",
            "customer_state                   0\n",
            "customer_zip_code_prefix         0\n",
            "product_category_name            0\n",
            "product_name_lenght              0\n",
            "product_description_lenght       0\n",
            "product_photos_qty               0\n",
            "product_id                       0\n",
            "review_id                        0\n",
            "review_score                     0\n",
            "review_comment_title             0\n",
            "review_comment_message           0\n",
            "review_creation_date             0\n",
            "review_answer_timestamp          0\n",
            "dtype: int64\n"
          ]
        }
      ]
    },
    {
      "cell_type": "markdown",
      "source": [
        "# Feature Engineering"
      ],
      "metadata": {
        "id": "CSULmaL6_7J9"
      }
    },
    {
      "cell_type": "code",
      "source": [
        "# Convert timestamps to datetime\n",
        "data['order_purchase_timestamp'] = pd.to_datetime(data['order_purchase_timestamp'], errors='coerce')\n",
        "data['order_aproved_at'] = pd.to_datetime(data['order_aproved_at'], errors='coerce')\n",
        "data['order_delivered_customer_date'] = pd.to_datetime(data['order_delivered_customer_date'], errors='coerce')"
      ],
      "metadata": {
        "colab": {
          "base_uri": "https://localhost:8080/"
        },
        "id": "3uJyVz61_9WU",
        "outputId": "96351123-4222-4dd6-dab9-529dc517bc3e"
      },
      "execution_count": null,
      "outputs": [
        {
          "output_type": "stream",
          "name": "stderr",
          "text": [
            "<ipython-input-54-583486b811e6>:2: UserWarning: Could not infer format, so each element will be parsed individually, falling back to `dateutil`. To ensure parsing is consistent and as-expected, please specify a format.\n",
            "  data['order_purchase_timestamp'] = pd.to_datetime(data['order_purchase_timestamp'], errors='coerce')\n",
            "<ipython-input-54-583486b811e6>:3: UserWarning: Could not infer format, so each element will be parsed individually, falling back to `dateutil`. To ensure parsing is consistent and as-expected, please specify a format.\n",
            "  data['order_aproved_at'] = pd.to_datetime(data['order_aproved_at'], errors='coerce')\n",
            "<ipython-input-54-583486b811e6>:4: UserWarning: Could not infer format, so each element will be parsed individually, falling back to `dateutil`. To ensure parsing is consistent and as-expected, please specify a format.\n",
            "  data['order_delivered_customer_date'] = pd.to_datetime(data['order_delivered_customer_date'], errors='coerce')\n"
          ]
        }
      ]
    },
    {
      "cell_type": "code",
      "source": [
        "# Feature Engineering\n",
        "data['total_order_value'] = data['order_products_value'] + data['order_freight_value']\n",
        "data['approval_time'] = (data['order_aproved_at'] - data['order_purchase_timestamp']).dt.seconds / 3600\n",
        "data['delivery_time'] = (data['order_delivered_customer_date'] - data['order_purchase_timestamp']).dt.days"
      ],
      "metadata": {
        "id": "DYOca4peAEMl"
      },
      "execution_count": null,
      "outputs": []
    },
    {
      "cell_type": "code",
      "source": [
        "# Fill missing values in new columns\n",
        "data['approval_time'].fillna(data['approval_time'].median(), inplace=True)\n",
        "data['delivery_time'].fillna(data['delivery_time'].median(), inplace=True)"
      ],
      "metadata": {
        "colab": {
          "base_uri": "https://localhost:8080/"
        },
        "id": "CaenLXGUAIS-",
        "outputId": "fd09c9ca-0aaf-443a-b956-1a274adde89d"
      },
      "execution_count": null,
      "outputs": [
        {
          "output_type": "stream",
          "name": "stderr",
          "text": [
            "<ipython-input-56-a8b017ce036f>:2: FutureWarning: A value is trying to be set on a copy of a DataFrame or Series through chained assignment using an inplace method.\n",
            "The behavior will change in pandas 3.0. This inplace method will never work because the intermediate object on which we are setting values always behaves as a copy.\n",
            "\n",
            "For example, when doing 'df[col].method(value, inplace=True)', try using 'df.method({col: value}, inplace=True)' or df[col] = df[col].method(value) instead, to perform the operation inplace on the original object.\n",
            "\n",
            "\n",
            "  data['approval_time'].fillna(data['approval_time'].median(), inplace=True)\n",
            "<ipython-input-56-a8b017ce036f>:3: FutureWarning: A value is trying to be set on a copy of a DataFrame or Series through chained assignment using an inplace method.\n",
            "The behavior will change in pandas 3.0. This inplace method will never work because the intermediate object on which we are setting values always behaves as a copy.\n",
            "\n",
            "For example, when doing 'df[col].method(value, inplace=True)', try using 'df.method({col: value}, inplace=True)' or df[col] = df[col].method(value) instead, to perform the operation inplace on the original object.\n",
            "\n",
            "\n",
            "  data['delivery_time'].fillna(data['delivery_time'].median(), inplace=True)\n"
          ]
        }
      ]
    },
    {
      "cell_type": "markdown",
      "source": [
        "# Normalizing Numerical Data"
      ],
      "metadata": {
        "id": "-UQyh4Ht-ngE"
      }
    },
    {
      "cell_type": "code",
      "source": [
        "import seaborn as sns\n",
        "import matplotlib.pyplot as plt"
      ],
      "metadata": {
        "id": "-NX8Whky-5MY"
      },
      "execution_count": null,
      "outputs": []
    },
    {
      "cell_type": "code",
      "source": [
        "# Normalize numeric features\n",
        "scaler = StandardScaler()\n",
        "data[['order_products_value', 'order_freight_value', 'total_order_value']] = scaler.fit_transform(\n",
        "    data[['order_products_value', 'order_freight_value', 'total_order_value']]\n",
        ")"
      ],
      "metadata": {
        "id": "kZNJ1rpr_ZqT"
      },
      "execution_count": null,
      "outputs": []
    },
    {
      "cell_type": "markdown",
      "source": [
        "# Normalizing Categorical Columns"
      ],
      "metadata": {
        "id": "YquwSqK7Aa5R"
      }
    },
    {
      "cell_type": "code",
      "source": [
        "# Encode categorical columns\n",
        "encoder = LabelEncoder()\n",
        "data['product_category_encoded'] = encoder.fit_transform(data['product_category_name'])\n"
      ],
      "metadata": {
        "id": "9tK6O0Mf_nOY"
      },
      "execution_count": null,
      "outputs": []
    },
    {
      "cell_type": "markdown",
      "source": [
        "# Correlation Matrix"
      ],
      "metadata": {
        "id": "VsVjQvV7AgWt"
      }
    },
    {
      "cell_type": "code",
      "source": [
        "# Select only numeric columns for correlation calculation\n",
        "numerical_data = data.select_dtypes(include=np.number)\n",
        "\n",
        "# Calculate the correlation matrix\n",
        "correlation = numerical_data.corr()\n",
        "\n",
        "# Continue with your plotting code\n",
        "plt.figure(figsize=(10, 8))\n",
        "sns.heatmap(correlation, annot=True, cmap='coolwarm')\n",
        "plt.title('Correlation Matrix')\n",
        "plt.show()"
      ],
      "metadata": {
        "colab": {
          "base_uri": "https://localhost:8080/",
          "height": 874
        },
        "id": "513Hcg6CA5Fg",
        "outputId": "6510276e-a121-4c17-c196-f3466ff1c389"
      },
      "execution_count": null,
      "outputs": [
        {
          "output_type": "display_data",
          "data": {
            "text/plain": [
              "<Figure size 1000x800 with 2 Axes>"
            ],
            "image/png": "[encoded data removed]"
          },
          "metadata": {}
        }
      ]
    },
    {
      "cell_type": "code",
      "source": [
        "data.head()"
      ],
      "metadata": {
        "colab": {
          "base_uri": "https://localhost:8080/",
          "height": 290
        },
        "id": "-_6n3B7cBPt2",
        "outputId": "c56e61a6-4709-4366-b539-f971f8baa8d1"
      },
      "execution_count": null,
      "outputs": [
        {
          "output_type": "execute_result",
          "data": {
            "text/plain": [
              "                           order_id order_status  order_products_value  \\\n",
              "0  b95df3cef5297e79ef709ba256518f6f    delivered              1.132638   \n",
              "1  59af46052a799e80e2f0c665c587731d    delivered             -0.586013   \n",
              "2  a3e6136894621db402a772c6bc72a12a    delivered              0.563005   \n",
              "3  b675ea5a618922f6e679e30531b8957b    delivered             -0.509087   \n",
              "4  195a8be6794c487fe6cfbb97b7c61902    delivered              0.855981   \n",
              "\n",
              "   order_freight_value  order_items_qty  order_sellers_qty  \\\n",
              "0            -0.393225                1                  1   \n",
              "1            -0.330501                1                  1   \n",
              "2            -0.186139                1                  1   \n",
              "3            -0.174689                1                  1   \n",
              "4             1.289847                1                  1   \n",
              "\n",
              "  order_purchase_timestamp    order_aproved_at order_estimated_delivery_date  \\\n",
              "0      2024-12-03 19:01:00                 NaT                       00:00.0   \n",
              "1                      NaT 2024-12-03 03:31:30                       00:00.0   \n",
              "2      2024-12-03 00:09:00                 NaT                       00:00.0   \n",
              "3      2024-12-03 18:36:00                 NaT                       00:00.0   \n",
              "4      2024-12-03 01:08:00 2024-12-03 05:40:24                       00:00.0   \n",
              "\n",
              "  order_delivered_customer_date  ...                         review_id  \\\n",
              "0           2024-12-03 04:24:12  ...  b95df3cef5297e79ef709ba256518f6f   \n",
              "1           2024-12-03 17:41:18  ...  59af46052a799e80e2f0c665c587731d   \n",
              "2                           NaT  ...  a3e6136894621db402a772c6bc72a12a   \n",
              "3                           NaT  ...  b675ea5a618922f6e679e30531b8957b   \n",
              "4                           NaT  ...  195a8be6794c487fe6cfbb97b7c61902   \n",
              "\n",
              "  review_score review_comment_title  \\\n",
              "0            5             No Title   \n",
              "1            5             No Title   \n",
              "2            5             No Title   \n",
              "3            4             No Title   \n",
              "4            5             No Title   \n",
              "\n",
              "                              review_comment_message review_creation_date  \\\n",
              "0                                         No Comment              00:00.0   \n",
              "1  entrega em 2 dias produto c boa qualidade otim...              00:00.0   \n",
              "2  produto veio antes do prazo informado muito ob...              00:00.0   \n",
              "3                                         No Comment              00:00.0   \n",
              "4                                         No Comment              00:00.0   \n",
              "\n",
              "     review_answer_timestamp  total_order_value  approval_time delivery_time  \\\n",
              "0  2017-02-09 02:37:37+00:00           1.043718      11.061667          -1.0   \n",
              "1  2017-09-15 03:43:47+00:00          -0.592613      11.061667           0.0   \n",
              "2  2017-02-10 14:18:53+00:00           0.519723      11.061667           0.0   \n",
              "3  2018-04-05 02:52:31+00:00          -0.503744      11.061667           0.0   \n",
              "4  2017-05-08 15:20:18+00:00           0.945138       4.540000           0.0   \n",
              "\n",
              "  product_category_encoded  \n",
              "0                       11  \n",
              "1                       44  \n",
              "2                        8  \n",
              "3                       13  \n",
              "4                       54  \n",
              "\n",
              "[5 rows x 29 columns]"
            ],
            "text/html": [
              "\n",
              "  <div id=\"df-9039cf4d-2f06-4501-8f31-527dd7cab6f5\" class=\"colab-df-container\">\n",
              "    <div>\n",
              "<style scoped>\n",
              "    .dataframe tbody tr th:only-of-type {\n",
              "        vertical-align: middle;\n",
              "    }\n",
              "\n",
              "    .dataframe tbody tr th {\n",
              "        vertical-align: top;\n",
              "    }\n",
              "\n",
              "    .dataframe thead th {\n",
              "        text-align: right;\n",
              "    }\n",
              "</style>\n",
              "<table border=\"1\" class=\"dataframe\">\n",
              "  <thead>\n",
              "    <tr style=\"text-align: right;\">\n",
              "      <th></th>\n",
              "      <th>order_id</th>\n",
              "      <th>order_status</th>\n",
              "      <th>order_products_value</th>\n",
              "      <th>order_freight_value</th>\n",
              "      <th>order_items_qty</th>\n",
              "      <th>order_sellers_qty</th>\n",
              "      <th>order_purchase_timestamp</th>\n",
              "      <th>order_aproved_at</th>\n",
              "      <th>order_estimated_delivery_date</th>\n",
              "      <th>order_delivered_customer_date</th>\n",
              "      <th>...</th>\n",
              "      <th>review_id</th>\n",
              "      <th>review_score</th>\n",
              "      <th>review_comment_title</th>\n",
              "      <th>review_comment_message</th>\n",
              "      <th>review_creation_date</th>\n",
              "      <th>review_answer_timestamp</th>\n",
              "      <th>total_order_value</th>\n",
              "      <th>approval_time</th>\n",
              "      <th>delivery_time</th>\n",
              "      <th>product_category_encoded</th>\n",
              "    </tr>\n",
              "  </thead>\n",
              "  <tbody>\n",
              "    <tr>\n",
              "      <th>0</th>\n",
              "      <td>b95df3cef5297e79ef709ba256518f6f</td>\n",
              "      <td>delivered</td>\n",
              "      <td>1.132638</td>\n",
              "      <td>-0.393225</td>\n",
              "      <td>1</td>\n",
              "      <td>1</td>\n",
              "      <td>2024-12-03 19:01:00</td>\n",
              "      <td>NaT</td>\n",
              "      <td>00:00.0</td>\n",
              "      <td>2024-12-03 04:24:12</td>\n",
              "      <td>...</td>\n",
              "      <td>b95df3cef5297e79ef709ba256518f6f</td>\n",
              "      <td>5</td>\n",
              "      <td>No Title</td>\n",
              "      <td>No Comment</td>\n",
              "      <td>00:00.0</td>\n",
              "      <td>2017-02-09 02:37:37+00:00</td>\n",
              "      <td>1.043718</td>\n",
              "      <td>11.061667</td>\n",
              "      <td>-1.0</td>\n",
              "      <td>11</td>\n",
              "    </tr>\n",
              "    <tr>\n",
              "      <th>1</th>\n",
              "      <td>59af46052a799e80e2f0c665c587731d</td>\n",
              "      <td>delivered</td>\n",
              "      <td>-0.586013</td>\n",
              "      <td>-0.330501</td>\n",
              "      <td>1</td>\n",
              "      <td>1</td>\n",
              "      <td>NaT</td>\n",
              "      <td>2024-12-03 03:31:30</td>\n",
              "      <td>00:00.0</td>\n",
              "      <td>2024-12-03 17:41:18</td>\n",
              "      <td>...</td>\n",
              "      <td>59af46052a799e80e2f0c665c587731d</td>\n",
              "      <td>5</td>\n",
              "      <td>No Title</td>\n",
              "      <td>entrega em 2 dias produto c boa qualidade otim...</td>\n",
              "      <td>00:00.0</td>\n",
              "      <td>2017-09-15 03:43:47+00:00</td>\n",
              "      <td>-0.592613</td>\n",
              "      <td>11.061667</td>\n",
              "      <td>0.0</td>\n",
              "      <td>44</td>\n",
              "    </tr>\n",
              "    <tr>\n",
              "      <th>2</th>\n",
              "      <td>a3e6136894621db402a772c6bc72a12a</td>\n",
              "      <td>delivered</td>\n",
              "      <td>0.563005</td>\n",
              "      <td>-0.186139</td>\n",
              "      <td>1</td>\n",
              "      <td>1</td>\n",
              "      <td>2024-12-03 00:09:00</td>\n",
              "      <td>NaT</td>\n",
              "      <td>00:00.0</td>\n",
              "      <td>NaT</td>\n",
              "      <td>...</td>\n",
              "      <td>a3e6136894621db402a772c6bc72a12a</td>\n",
              "      <td>5</td>\n",
              "      <td>No Title</td>\n",
              "      <td>produto veio antes do prazo informado muito ob...</td>\n",
              "      <td>00:00.0</td>\n",
              "      <td>2017-02-10 14:18:53+00:00</td>\n",
              "      <td>0.519723</td>\n",
              "      <td>11.061667</td>\n",
              "      <td>0.0</td>\n",
              "      <td>8</td>\n",
              "    </tr>\n",
              "    <tr>\n",
              "      <th>3</th>\n",
              "      <td>b675ea5a618922f6e679e30531b8957b</td>\n",
              "      <td>delivered</td>\n",
              "      <td>-0.509087</td>\n",
              "      <td>-0.174689</td>\n",
              "      <td>1</td>\n",
              "      <td>1</td>\n",
              "      <td>2024-12-03 18:36:00</td>\n",
              "      <td>NaT</td>\n",
              "      <td>00:00.0</td>\n",
              "      <td>NaT</td>\n",
              "      <td>...</td>\n",
              "      <td>b675ea5a618922f6e679e30531b8957b</td>\n",
              "      <td>4</td>\n",
              "      <td>No Title</td>\n",
              "      <td>No Comment</td>\n",
              "      <td>00:00.0</td>\n",
              "      <td>2018-04-05 02:52:31+00:00</td>\n",
              "      <td>-0.503744</td>\n",
              "      <td>11.061667</td>\n",
              "      <td>0.0</td>\n",
              "      <td>13</td>\n",
              "    </tr>\n",
              "    <tr>\n",
              "      <th>4</th>\n",
              "      <td>195a8be6794c487fe6cfbb97b7c61902</td>\n",
              "      <td>delivered</td>\n",
              "      <td>0.855981</td>\n",
              "      <td>1.289847</td>\n",
              "      <td>1</td>\n",
              "      <td>1</td>\n",
              "      <td>2024-12-03 01:08:00</td>\n",
              "      <td>2024-12-03 05:40:24</td>\n",
              "      <td>00:00.0</td>\n",
              "      <td>NaT</td>\n",
              "      <td>...</td>\n",
              "      <td>195a8be6794c487fe6cfbb97b7c61902</td>\n",
              "      <td>5</td>\n",
              "      <td>No Title</td>\n",
              "      <td>No Comment</td>\n",
              "      <td>00:00.0</td>\n",
              "      <td>2017-05-08 15:20:18+00:00</td>\n",
              "      <td>0.945138</td>\n",
              "      <td>4.540000</td>\n",
              "      <td>0.0</td>\n",
              "      <td>54</td>\n",
              "    </tr>\n",
              "  </tbody>\n",
              "</table>\n",
              "<p>5 rows × 29 columns</p>\n",
              "</div>\n",
              "    <div class=\"colab-df-buttons\">\n",
              "\n",
              "  <div class=\"colab-df-container\">\n",
              "    <button class=\"colab-df-convert\" onclick=\"convertToInteractive('df-9039cf4d-2f06-4501-8f31-527dd7cab6f5')\"\n",
              "            title=\"Convert this dataframe to an interactive table.\"\n",
              "            style=\"display:none;\">\n",
              "\n",
              "  <svg xmlns=\"http://www.w3.org/2000/svg\" height=\"24px\" viewBox=\"0 -960 960 960\">\n",
              "    <path d=\"M120-120v-720h720v720H120Zm60-500h600v-160H180v160Zm220 220h160v-160H400v160Zm0 220h160v-160H400v160ZM180-400h160v-160H180v160Zm440 0h160v-160H620v160ZM180-180h160v-160H180v160Zm440 0h160v-160H620v160Z\"/>\n",
              "  </svg>\n",
              "    </button>\n",
              "\n",
              "  <style>\n",
              "    .colab-df-container {\n",
              "      display:flex;\n",
              "      gap: 12px;\n",
              "    }\n",
              "\n",
              "    .colab-df-convert {\n",
              "      background-color: #E8F0FE;\n",
              "      border: none;\n",
              "      border-radius: 50%;\n",
              "      cursor: pointer;\n",
              "      display: none;\n",
              "      fill: #1967D2;\n",
              "      height: 32px;\n",
              "      padding: 0 0 0 0;\n",
              "      width: 32px;\n",
              "    }\n",
              "\n",
              "    .colab-df-convert:hover {\n",
              "      background-color: #E2EBFA;\n",
              "      box-shadow: 0px 1px 2px rgba(60, 64, 67, 0.3), 0px 1px 3px 1px rgba(60, 64, 67, 0.15);\n",
              "      fill: #174EA6;\n",
              "    }\n",
              "\n",
              "    .colab-df-buttons div {\n",
              "      margin-bottom: 4px;\n",
              "    }\n",
              "\n",
              "    [theme=dark] .colab-df-convert {\n",
              "      background-color: #3B4455;\n",
              "      fill: #D2E3FC;\n",
              "    }\n",
              "\n",
              "    [theme=dark] .colab-df-convert:hover {\n",
              "      background-color: #434B5C;\n",
              "      box-shadow: 0px 1px 3px 1px rgba(0, 0, 0, 0.15);\n",
              "      filter: drop-shadow(0px 1px 2px rgba(0, 0, 0, 0.3));\n",
              "      fill: #FFFFFF;\n",
              "    }\n",
              "  </style>\n",
              "\n",
              "    <script>\n",
              "      const buttonEl =\n",
              "        document.querySelector('#df-9039cf4d-2f06-4501-8f31-527dd7cab6f5 button.colab-df-convert');\n",
              "      buttonEl.style.display =\n",
              "        google.colab.kernel.accessAllowed ? 'block' : 'none';\n",
              "\n",
              "      async function convertToInteractive(key) {\n",
              "        const element = document.querySelector('#df-9039cf4d-2f06-4501-8f31-527dd7cab6f5');\n",
              "        const dataTable =\n",
              "          await google.colab.kernel.invokeFunction('convertToInteractive',\n",
              "                                                    [key], {});\n",
              "        if (!dataTable) return;\n",
              "\n",
              "        const docLinkHtml = 'Like what you see? Visit the ' +\n",
              "          '<a target=\"_blank\" href=https://colab.research.google.com/notebooks/data_table.ipynb>data table notebook</a>'\n",
              "          + ' to learn more about interactive tables.';\n",
              "        element.innerHTML = '';\n",
              "        dataTable['output_type'] = 'display_data';\n",
              "        await google.colab.output.renderOutput(dataTable, element);\n",
              "        const docLink = document.createElement('div');\n",
              "        docLink.innerHTML = docLinkHtml;\n",
              "        element.appendChild(docLink);\n",
              "      }\n",
              "    </script>\n",
              "  </div>\n",
              "\n",
              "\n",
              "<div id=\"df-21ca16fd-5c58-4e31-aa61-0ca8e283a50f\">\n",
              "  <button class=\"colab-df-quickchart\" onclick=\"quickchart('df-21ca16fd-5c58-4e31-aa61-0ca8e283a50f')\"\n",
              "            title=\"Suggest charts\"\n",
              "            style=\"display:none;\">\n",
              "\n",
              "<svg xmlns=\"http://www.w3.org/2000/svg\" height=\"24px\"viewBox=\"0 0 24 24\"\n",
              "     width=\"24px\">\n",
              "    <g>\n",
              "        <path d=\"M19 3H5c-1.1 0-2 .9-2 2v14c0 1.1.9 2 2 2h14c1.1 0 2-.9 2-2V5c0-1.1-.9-2-2-2zM9 17H7v-7h2v7zm4 0h-2V7h2v10zm4 0h-2v-4h2v4z\"/>\n",
              "    </g>\n",
              "</svg>\n",
              "  </button>\n",
              "\n",
              "<style>\n",
              "  .colab-df-quickchart {\n",
              "      --bg-color: #E8F0FE;\n",
              "      --fill-color: #1967D2;\n",
              "      --hover-bg-color: #E2EBFA;\n",
              "      --hover-fill-color: #174EA6;\n",
              "      --disabled-fill-color: #AAA;\n",
              "      --disabled-bg-color: #DDD;\n",
              "  }\n",
              "\n",
              "  [theme=dark] .colab-df-quickchart {\n",
              "      --bg-color: #3B4455;\n",
              "      --fill-color: #D2E3FC;\n",
              "      --hover-bg-color: #434B5C;\n",
              "      --hover-fill-color: #FFFFFF;\n",
              "      --disabled-bg-color: #3B4455;\n",
              "      --disabled-fill-color: #666;\n",
              "  }\n",
              "\n",
              "  .colab-df-quickchart {\n",
              "    background-color: var(--bg-color);\n",
              "    border: none;\n",
              "    border-radius: 50%;\n",
              "    cursor: pointer;\n",
              "    display: none;\n",
              "    fill: var(--fill-color);\n",
              "    height: 32px;\n",
              "    padding: 0;\n",
              "    width: 32px;\n",
              "  }\n",
              "\n",
              "  .colab-df-quickchart:hover {\n",
              "    background-color: var(--hover-bg-color);\n",
              "    box-shadow: 0 1px 2px rgba(60, 64, 67, 0.3), 0 1px 3px 1px rgba(60, 64, 67, 0.15);\n",
              "    fill: var(--button-hover-fill-color);\n",
              "  }\n",
              "\n",
              "  .colab-df-quickchart-complete:disabled,\n",
              "  .colab-df-quickchart-complete:disabled:hover {\n",
              "    background-color: var(--disabled-bg-color);\n",
              "    fill: var(--disabled-fill-color);\n",
              "    box-shadow: none;\n",
              "  }\n",
              "\n",
              "  .colab-df-spinner {\n",
              "    border: 2px solid var(--fill-color);\n",
              "    border-color: transparent;\n",
              "    border-bottom-color: var(--fill-color);\n",
              "    animation:\n",
              "      spin 1s steps(1) infinite;\n",
              "  }\n",
              "\n",
              "  @keyframes spin {\n",
              "    0% {\n",
              "      border-color: transparent;\n",
              "      border-bottom-color: var(--fill-color);\n",
              "      border-left-color: var(--fill-color);\n",
              "    }\n",
              "    20% {\n",
              "      border-color: transparent;\n",
              "      border-left-color: var(--fill-color);\n",
              "      border-top-color: var(--fill-color);\n",
              "    }\n",
              "    30% {\n",
              "      border-color: transparent;\n",
              "      border-left-color: var(--fill-color);\n",
              "      border-top-color: var(--fill-color);\n",
              "      border-right-color: var(--fill-color);\n",
              "    }\n",
              "    40% {\n",
              "      border-color: transparent;\n",
              "      border-right-color: var(--fill-color);\n",
              "      border-top-color: var(--fill-color);\n",
              "    }\n",
              "    60% {\n",
              "      border-color: transparent;\n",
              "      border-right-color: var(--fill-color);\n",
              "    }\n",
              "    80% {\n",
              "      border-color: transparent;\n",
              "      border-right-color: var(--fill-color);\n",
              "      border-bottom-color: var(--fill-color);\n",
              "    }\n",
              "    90% {\n",
              "      border-color: transparent;\n",
              "      border-bottom-color: var(--fill-color);\n",
              "    }\n",
              "  }\n",
              "</style>\n",
              "\n",
              "  <script>\n",
              "    async function quickchart(key) {\n",
              "      const quickchartButtonEl =\n",
              "        document.querySelector('#' + key + ' button');\n",
              "      quickchartButtonEl.disabled = true;  // To prevent multiple clicks.\n",
              "      quickchartButtonEl.classList.add('colab-df-spinner');\n",
              "      try {\n",
              "        const charts = await google.colab.kernel.invokeFunction(\n",
              "            'suggestCharts', [key], {});\n",
              "      } catch (error) {\n",
              "        console.error('Error during call to suggestCharts:', error);\n",
              "      }\n",
              "      quickchartButtonEl.classList.remove('colab-df-spinner');\n",
              "      quickchartButtonEl.classList.add('colab-df-quickchart-complete');\n",
              "    }\n",
              "    (() => {\n",
              "      let quickchartButtonEl =\n",
              "        document.querySelector('#df-21ca16fd-5c58-4e31-aa61-0ca8e283a50f button');\n",
              "      quickchartButtonEl.style.display =\n",
              "        google.colab.kernel.accessAllowed ? 'block' : 'none';\n",
              "    })();\n",
              "  </script>\n",
              "</div>\n",
              "\n",
              "    </div>\n",
              "  </div>\n"
            ],
            "application/vnd.google.colaboratory.intrinsic+json": {
              "type": "dataframe",
              "variable_name": "data"
            }
          },
          "metadata": {},
          "execution_count": 61
        }
      ]
    },
    {
      "cell_type": "markdown",
      "source": [
        "# Data Preparation"
      ],
      "metadata": {
        "id": "RaWtlAhCBcqy"
      }
    },
    {
      "cell_type": "code",
      "source": [
        "# Remove unnecessary columns\n",
        "columns_to_drop = ['order_id', 'customer_city', 'customer_state']\n",
        "data.drop(columns=columns_to_drop, inplace=True)"
      ],
      "metadata": {
        "id": "CENgYLCJBf4z"
      },
      "execution_count": null,
      "outputs": []
    },
    {
      "cell_type": "markdown",
      "source": [
        "# Split the Data"
      ],
      "metadata": {
        "id": "rQECu1hGBj9q"
      }
    },
    {
      "cell_type": "code",
      "source": [
        "train_data, test_data = train_test_split(data, test_size=0.2, random_state=42)"
      ],
      "metadata": {
        "id": "4R-muFTEBlnJ"
      },
      "execution_count": null,
      "outputs": []
    },
    {
      "cell_type": "markdown",
      "source": [
        "# Collaborative Filtering"
      ],
      "metadata": {
        "id": "vH-YQTcSBpI0"
      }
    },
    {
      "cell_type": "code",
      "source": [
        "# Prepare the dataset for Surprise\n",
        "reader = Reader(rating_scale=(1, 5))\n",
        "interaction_data = data[['customer_id', 'product_id', 'review_score']].dropna()\n",
        "interaction_dataset = Dataset.load_from_df(interaction_data, reader)\n",
        "\n",
        "# Split into train and test sets\n",
        "trainset, testset = surprise_split(interaction_dataset, test_size=0.2)\n",
        "\n",
        "# Train the SVD model\n",
        "svd = SVD()\n",
        "svd.fit(trainset)\n",
        "\n",
        "# Evaluate the model\n",
        "predictions = svd.test(testset)\n",
        "rmse = accuracy.rmse(predictions)\n",
        "print(f\"Collaborative Filtering RMSE: {rmse:.4f}\")\n"
      ],
      "metadata": {
        "colab": {
          "base_uri": "https://localhost:8080/"
        },
        "id": "P-oNfqU6Bt-z",
        "outputId": "a3e9bae3-a663-4794-ffc3-140d5b6c725f"
      },
      "execution_count": null,
      "outputs": [
        {
          "output_type": "stream",
          "name": "stdout",
          "text": [
            "RMSE: 1.3340\n",
            "Collaborative Filtering RMSE: 1.3340\n"
          ]
        }
      ]
    },
    {
      "cell_type": "markdown",
      "source": [
        "# Content Based Filtering"
      ],
      "metadata": {
        "id": "XTchXnMMCBhG"
      }
    },
    {
      "cell_type": "code",
      "source": [
        "# Content Based Filtering\n",
        "# TF-IDF on product_category_name\n",
        "tfidf = TfidfVectorizer()\n",
        "tfidf_matrix = tfidf.fit_transform(data['product_category_name'])\n",
        "\n",
        "# Calculate average review score and number of reviews for each product\n",
        "# ----> This is the fix to create the necessary columns\n",
        "product_review_data = data.groupby('product_id')['review_score'].agg(['mean', 'count'])\n",
        "product_review_data.columns = ['avg_review_score', 'num_reviews']\n",
        "data = data.merge(product_review_data, on='product_id', how='left')\n",
        "# <---- End of fix\n",
        "\n",
        "# Combine features\n",
        "numeric_features = data[['avg_review_score', 'num_reviews']].fillna(0)\n",
        "numeric_features_scaled = scaler.fit_transform(numeric_features)\n",
        "combined_features = hstack([tfidf_matrix, csr_matrix(numeric_features_scaled)])\n",
        "\n",
        "# Compute cosine similarity dynamically\n",
        "def recommend_products_content(product_id, feature_matrix, product_ids, n=5):\n",
        "    product_idx = product_ids.index(product_id)\n",
        "    product_vector = feature_matrix[product_idx]\n",
        "    similarity_scores = cosine_similarity(product_vector, feature_matrix).flatten()\n",
        "    similar_indices = similarity_scores.argsort()[::-1][1:n+1]\n",
        "    similar_product_ids = [product_ids[i] for i in similar_indices]\n",
        "    return similar_product_ids\n",
        "\n",
        "product_ids = data['product_id'].tolist()"
      ],
      "metadata": {
        "id": "rFcG-I39Cx_c"
      },
      "execution_count": null,
      "outputs": []
    },
    {
      "cell_type": "markdown",
      "source": [
        "# Hybrid Model"
      ],
      "metadata": {
        "id": "fviHD7rGC-Jl"
      }
    },
    {
      "cell_type": "code",
      "source": [
        "data.head()"
      ],
      "metadata": {
        "colab": {
          "base_uri": "https://localhost:8080/",
          "height": 290
        },
        "id": "EDpbvQ6AIn5x",
        "outputId": "00b7a148-1765-476e-e191-f43a5833bc25"
      },
      "execution_count": null,
      "outputs": [
        {
          "output_type": "execute_result",
          "data": {
            "text/plain": [
              "  order_status  order_products_value  order_freight_value  order_items_qty  \\\n",
              "0    delivered              1.132638            -0.393225                1   \n",
              "1    delivered             -0.586013            -0.330501                1   \n",
              "2    delivered              0.563005            -0.186139                1   \n",
              "3    delivered             -0.509087            -0.174689                1   \n",
              "4    delivered              0.855981             1.289847                1   \n",
              "\n",
              "   order_sellers_qty order_purchase_timestamp    order_aproved_at  \\\n",
              "0                  1      2024-12-03 19:01:00                 NaT   \n",
              "1                  1                      NaT 2024-12-03 03:31:30   \n",
              "2                  1      2024-12-03 00:09:00                 NaT   \n",
              "3                  1      2024-12-03 18:36:00                 NaT   \n",
              "4                  1      2024-12-03 01:08:00 2024-12-03 05:40:24   \n",
              "\n",
              "  order_estimated_delivery_date order_delivered_customer_date  \\\n",
              "0                       00:00.0           2024-12-03 04:24:12   \n",
              "1                       00:00.0           2024-12-03 17:41:18   \n",
              "2                       00:00.0                           NaT   \n",
              "3                       00:00.0                           NaT   \n",
              "4                       00:00.0                           NaT   \n",
              "\n",
              "                        customer_id  ...  \\\n",
              "0  297dcf281305aabfee256d313076af2b  ...   \n",
              "1  b7563d94162ed0aa3f8d9cada4bcc536  ...   \n",
              "2  f102cb15ec41ca30fa2902da06495f6b  ...   \n",
              "3  e33c250311160298e5b457ca52720a35  ...   \n",
              "4  8a8f7c9a4450f17ba3ee25a5ba821bc7  ...   \n",
              "\n",
              "                              review_comment_message review_creation_date  \\\n",
              "0                                         No Comment              00:00.0   \n",
              "1  entrega em 2 dias produto c boa qualidade otim...              00:00.0   \n",
              "2  produto veio antes do prazo informado muito ob...              00:00.0   \n",
              "3                                         No Comment              00:00.0   \n",
              "4                                         No Comment              00:00.0   \n",
              "\n",
              "     review_answer_timestamp  total_order_value  approval_time delivery_time  \\\n",
              "0  2017-02-09 02:37:37+00:00           1.043718      11.061667          -1.0   \n",
              "1  2017-09-15 03:43:47+00:00          -0.592613      11.061667           0.0   \n",
              "2  2017-02-10 14:18:53+00:00           0.519723      11.061667           0.0   \n",
              "3  2018-04-05 02:52:31+00:00          -0.503744      11.061667           0.0   \n",
              "4  2017-05-08 15:20:18+00:00           0.945138       4.540000           0.0   \n",
              "\n",
              "  product_category_encoded  avg_review_score num_reviews customer_id_encoded  \n",
              "0                       11          4.380165         242               80634  \n",
              "1                       44          4.363636          11               27246  \n",
              "2                        8          3.882353          17                5556  \n",
              "3                       13          4.214286          14               10777  \n",
              "4                       54          5.000000           1               44067  \n",
              "\n",
              "[5 rows x 29 columns]"
            ],
            "text/html": [
              "\n",
              "  <div id=\"df-897aefb8-edd2-4d72-8013-563fdd79aac8\" class=\"colab-df-container\">\n",
              "    <div>\n",
              "<style scoped>\n",
              "    .dataframe tbody tr th:only-of-type {\n",
              "        vertical-align: middle;\n",
              "    }\n",
              "\n",
              "    .dataframe tbody tr th {\n",
              "        vertical-align: top;\n",
              "    }\n",
              "\n",
              "    .dataframe thead th {\n",
              "        text-align: right;\n",
              "    }\n",
              "</style>\n",
              "<table border=\"1\" class=\"dataframe\">\n",
              "  <thead>\n",
              "    <tr style=\"text-align: right;\">\n",
              "      <th></th>\n",
              "      <th>order_status</th>\n",
              "      <th>order_products_value</th>\n",
              "      <th>order_freight_value</th>\n",
              "      <th>order_items_qty</th>\n",
              "      <th>order_sellers_qty</th>\n",
              "      <th>order_purchase_timestamp</th>\n",
              "      <th>order_aproved_at</th>\n",
              "      <th>order_estimated_delivery_date</th>\n",
              "      <th>order_delivered_customer_date</th>\n",
              "      <th>customer_id</th>\n",
              "      <th>...</th>\n",
              "      <th>review_comment_message</th>\n",
              "      <th>review_creation_date</th>\n",
              "      <th>review_answer_timestamp</th>\n",
              "      <th>total_order_value</th>\n",
              "      <th>approval_time</th>\n",
              "      <th>delivery_time</th>\n",
              "      <th>product_category_encoded</th>\n",
              "      <th>avg_review_score</th>\n",
              "      <th>num_reviews</th>\n",
              "      <th>customer_id_encoded</th>\n",
              "    </tr>\n",
              "  </thead>\n",
              "  <tbody>\n",
              "    <tr>\n",
              "      <th>0</th>\n",
              "      <td>delivered</td>\n",
              "      <td>1.132638</td>\n",
              "      <td>-0.393225</td>\n",
              "      <td>1</td>\n",
              "      <td>1</td>\n",
              "      <td>2024-12-03 19:01:00</td>\n",
              "      <td>NaT</td>\n",
              "      <td>00:00.0</td>\n",
              "      <td>2024-12-03 04:24:12</td>\n",
              "      <td>297dcf281305aabfee256d313076af2b</td>\n",
              "      <td>...</td>\n",
              "      <td>No Comment</td>\n",
              "      <td>00:00.0</td>\n",
              "      <td>2017-02-09 02:37:37+00:00</td>\n",
              "      <td>1.043718</td>\n",
              "      <td>11.061667</td>\n",
              "      <td>-1.0</td>\n",
              "      <td>11</td>\n",
              "      <td>4.380165</td>\n",
              "      <td>242</td>\n",
              "      <td>80634</td>\n",
              "    </tr>\n",
              "    <tr>\n",
              "      <th>1</th>\n",
              "      <td>delivered</td>\n",
              "      <td>-0.586013</td>\n",
              "      <td>-0.330501</td>\n",
              "      <td>1</td>\n",
              "      <td>1</td>\n",
              "      <td>NaT</td>\n",
              "      <td>2024-12-03 03:31:30</td>\n",
              "      <td>00:00.0</td>\n",
              "      <td>2024-12-03 17:41:18</td>\n",
              "      <td>b7563d94162ed0aa3f8d9cada4bcc536</td>\n",
              "      <td>...</td>\n",
              "      <td>entrega em 2 dias produto c boa qualidade otim...</td>\n",
              "      <td>00:00.0</td>\n",
              "      <td>2017-09-15 03:43:47+00:00</td>\n",
              "      <td>-0.592613</td>\n",
              "      <td>11.061667</td>\n",
              "      <td>0.0</td>\n",
              "      <td>44</td>\n",
              "      <td>4.363636</td>\n",
              "      <td>11</td>\n",
              "      <td>27246</td>\n",
              "    </tr>\n",
              "    <tr>\n",
              "      <th>2</th>\n",
              "      <td>delivered</td>\n",
              "      <td>0.563005</td>\n",
              "      <td>-0.186139</td>\n",
              "      <td>1</td>\n",
              "      <td>1</td>\n",
              "      <td>2024-12-03 00:09:00</td>\n",
              "      <td>NaT</td>\n",
              "      <td>00:00.0</td>\n",
              "      <td>NaT</td>\n",
              "      <td>f102cb15ec41ca30fa2902da06495f6b</td>\n",
              "      <td>...</td>\n",
              "      <td>produto veio antes do prazo informado muito ob...</td>\n",
              "      <td>00:00.0</td>\n",
              "      <td>2017-02-10 14:18:53+00:00</td>\n",
              "      <td>0.519723</td>\n",
              "      <td>11.061667</td>\n",
              "      <td>0.0</td>\n",
              "      <td>8</td>\n",
              "      <td>3.882353</td>\n",
              "      <td>17</td>\n",
              "      <td>5556</td>\n",
              "    </tr>\n",
              "    <tr>\n",
              "      <th>3</th>\n",
              "      <td>delivered</td>\n",
              "      <td>-0.509087</td>\n",
              "      <td>-0.174689</td>\n",
              "      <td>1</td>\n",
              "      <td>1</td>\n",
              "      <td>2024-12-03 18:36:00</td>\n",
              "      <td>NaT</td>\n",
              "      <td>00:00.0</td>\n",
              "      <td>NaT</td>\n",
              "      <td>e33c250311160298e5b457ca52720a35</td>\n",
              "      <td>...</td>\n",
              "      <td>No Comment</td>\n",
              "      <td>00:00.0</td>\n",
              "      <td>2018-04-05 02:52:31+00:00</td>\n",
              "      <td>-0.503744</td>\n",
              "      <td>11.061667</td>\n",
              "      <td>0.0</td>\n",
              "      <td>13</td>\n",
              "      <td>4.214286</td>\n",
              "      <td>14</td>\n",
              "      <td>10777</td>\n",
              "    </tr>\n",
              "    <tr>\n",
              "      <th>4</th>\n",
              "      <td>delivered</td>\n",
              "      <td>0.855981</td>\n",
              "      <td>1.289847</td>\n",
              "      <td>1</td>\n",
              "      <td>1</td>\n",
              "      <td>2024-12-03 01:08:00</td>\n",
              "      <td>2024-12-03 05:40:24</td>\n",
              "      <td>00:00.0</td>\n",
              "      <td>NaT</td>\n",
              "      <td>8a8f7c9a4450f17ba3ee25a5ba821bc7</td>\n",
              "      <td>...</td>\n",
              "      <td>No Comment</td>\n",
              "      <td>00:00.0</td>\n",
              "      <td>2017-05-08 15:20:18+00:00</td>\n",
              "      <td>0.945138</td>\n",
              "      <td>4.540000</td>\n",
              "      <td>0.0</td>\n",
              "      <td>54</td>\n",
              "      <td>5.000000</td>\n",
              "      <td>1</td>\n",
              "      <td>44067</td>\n",
              "    </tr>\n",
              "  </tbody>\n",
              "</table>\n",
              "<p>5 rows × 29 columns</p>\n",
              "</div>\n",
              "    <div class=\"colab-df-buttons\">\n",
              "\n",
              "  <div class=\"colab-df-container\">\n",
              "    <button class=\"colab-df-convert\" onclick=\"convertToInteractive('df-897aefb8-edd2-4d72-8013-563fdd79aac8')\"\n",
              "            title=\"Convert this dataframe to an interactive table.\"\n",
              "            style=\"display:none;\">\n",
              "\n",
              "  <svg xmlns=\"http://www.w3.org/2000/svg\" height=\"24px\" viewBox=\"0 -960 960 960\">\n",
              "    <path d=\"M120-120v-720h720v720H120Zm60-500h600v-160H180v160Zm220 220h160v-160H400v160Zm0 220h160v-160H400v160ZM180-400h160v-160H180v160Zm440 0h160v-160H620v160ZM180-180h160v-160H180v160Zm440 0h160v-160H620v160Z\"/>\n",
              "  </svg>\n",
              "    </button>\n",
              "\n",
              "  <style>\n",
              "    .colab-df-container {\n",
              "      display:flex;\n",
              "      gap: 12px;\n",
              "    }\n",
              "\n",
              "    .colab-df-convert {\n",
              "      background-color: #E8F0FE;\n",
              "      border: none;\n",
              "      border-radius: 50%;\n",
              "      cursor: pointer;\n",
              "      display: none;\n",
              "      fill: #1967D2;\n",
              "      height: 32px;\n",
              "      padding: 0 0 0 0;\n",
              "      width: 32px;\n",
              "    }\n",
              "\n",
              "    .colab-df-convert:hover {\n",
              "      background-color: #E2EBFA;\n",
              "      box-shadow: 0px 1px 2px rgba(60, 64, 67, 0.3), 0px 1px 3px 1px rgba(60, 64, 67, 0.15);\n",
              "      fill: #174EA6;\n",
              "    }\n",
              "\n",
              "    .colab-df-buttons div {\n",
              "      margin-bottom: 4px;\n",
              "    }\n",
              "\n",
              "    [theme=dark] .colab-df-convert {\n",
              "      background-color: #3B4455;\n",
              "      fill: #D2E3FC;\n",
              "    }\n",
              "\n",
              "    [theme=dark] .colab-df-convert:hover {\n",
              "      background-color: #434B5C;\n",
              "      box-shadow: 0px 1px 3px 1px rgba(0, 0, 0, 0.15);\n",
              "      filter: drop-shadow(0px 1px 2px rgba(0, 0, 0, 0.3));\n",
              "      fill: #FFFFFF;\n",
              "    }\n",
              "  </style>\n",
              "\n",
              "    <script>\n",
              "      const buttonEl =\n",
              "        document.querySelector('#df-897aefb8-edd2-4d72-8013-563fdd79aac8 button.colab-df-convert');\n",
              "      buttonEl.style.display =\n",
              "        google.colab.kernel.accessAllowed ? 'block' : 'none';\n",
              "\n",
              "      async function convertToInteractive(key) {\n",
              "        const element = document.querySelector('#df-897aefb8-edd2-4d72-8013-563fdd79aac8');\n",
              "        const dataTable =\n",
              "          await google.colab.kernel.invokeFunction('convertToInteractive',\n",
              "                                                    [key], {});\n",
              "        if (!dataTable) return;\n",
              "\n",
              "        const docLinkHtml = 'Like what you see? Visit the ' +\n",
              "          '<a target=\"_blank\" href=https://colab.research.google.com/notebooks/data_table.ipynb>data table notebook</a>'\n",
              "          + ' to learn more about interactive tables.';\n",
              "        element.innerHTML = '';\n",
              "        dataTable['output_type'] = 'display_data';\n",
              "        await google.colab.output.renderOutput(dataTable, element);\n",
              "        const docLink = document.createElement('div');\n",
              "        docLink.innerHTML = docLinkHtml;\n",
              "        element.appendChild(docLink);\n",
              "      }\n",
              "    </script>\n",
              "  </div>\n",
              "\n",
              "\n",
              "<div id=\"df-96de98b8-75c6-4183-be9c-186f87857c17\">\n",
              "  <button class=\"colab-df-quickchart\" onclick=\"quickchart('df-96de98b8-75c6-4183-be9c-186f87857c17')\"\n",
              "            title=\"Suggest charts\"\n",
              "            style=\"display:none;\">\n",
              "\n",
              "<svg xmlns=\"http://www.w3.org/2000/svg\" height=\"24px\"viewBox=\"0 0 24 24\"\n",
              "     width=\"24px\">\n",
              "    <g>\n",
              "        <path d=\"M19 3H5c-1.1 0-2 .9-2 2v14c0 1.1.9 2 2 2h14c1.1 0 2-.9 2-2V5c0-1.1-.9-2-2-2zM9 17H7v-7h2v7zm4 0h-2V7h2v10zm4 0h-2v-4h2v4z\"/>\n",
              "    </g>\n",
              "</svg>\n",
              "  </button>\n",
              "\n",
              "<style>\n",
              "  .colab-df-quickchart {\n",
              "      --bg-color: #E8F0FE;\n",
              "      --fill-color: #1967D2;\n",
              "      --hover-bg-color: #E2EBFA;\n",
              "      --hover-fill-color: #174EA6;\n",
              "      --disabled-fill-color: #AAA;\n",
              "      --disabled-bg-color: #DDD;\n",
              "  }\n",
              "\n",
              "  [theme=dark] .colab-df-quickchart {\n",
              "      --bg-color: #3B4455;\n",
              "      --fill-color: #D2E3FC;\n",
              "      --hover-bg-color: #434B5C;\n",
              "      --hover-fill-color: #FFFFFF;\n",
              "      --disabled-bg-color: #3B4455;\n",
              "      --disabled-fill-color: #666;\n",
              "  }\n",
              "\n",
              "  .colab-df-quickchart {\n",
              "    background-color: var(--bg-color);\n",
              "    border: none;\n",
              "    border-radius: 50%;\n",
              "    cursor: pointer;\n",
              "    display: none;\n",
              "    fill: var(--fill-color);\n",
              "    height: 32px;\n",
              "    padding: 0;\n",
              "    width: 32px;\n",
              "  }\n",
              "\n",
              "  .colab-df-quickchart:hover {\n",
              "    background-color: var(--hover-bg-color);\n",
              "    box-shadow: 0 1px 2px rgba(60, 64, 67, 0.3), 0 1px 3px 1px rgba(60, 64, 67, 0.15);\n",
              "    fill: var(--button-hover-fill-color);\n",
              "  }\n",
              "\n",
              "  .colab-df-quickchart-complete:disabled,\n",
              "  .colab-df-quickchart-complete:disabled:hover {\n",
              "    background-color: var(--disabled-bg-color);\n",
              "    fill: var(--disabled-fill-color);\n",
              "    box-shadow: none;\n",
              "  }\n",
              "\n",
              "  .colab-df-spinner {\n",
              "    border: 2px solid var(--fill-color);\n",
              "    border-color: transparent;\n",
              "    border-bottom-color: var(--fill-color);\n",
              "    animation:\n",
              "      spin 1s steps(1) infinite;\n",
              "  }\n",
              "\n",
              "  @keyframes spin {\n",
              "    0% {\n",
              "      border-color: transparent;\n",
              "      border-bottom-color: var(--fill-color);\n",
              "      border-left-color: var(--fill-color);\n",
              "    }\n",
              "    20% {\n",
              "      border-color: transparent;\n",
              "      border-left-color: var(--fill-color);\n",
              "      border-top-color: var(--fill-color);\n",
              "    }\n",
              "    30% {\n",
              "      border-color: transparent;\n",
              "      border-left-color: var(--fill-color);\n",
              "      border-top-color: var(--fill-color);\n",
              "      border-right-color: var(--fill-color);\n",
              "    }\n",
              "    40% {\n",
              "      border-color: transparent;\n",
              "      border-right-color: var(--fill-color);\n",
              "      border-top-color: var(--fill-color);\n",
              "    }\n",
              "    60% {\n",
              "      border-color: transparent;\n",
              "      border-right-color: var(--fill-color);\n",
              "    }\n",
              "    80% {\n",
              "      border-color: transparent;\n",
              "      border-right-color: var(--fill-color);\n",
              "      border-bottom-color: var(--fill-color);\n",
              "    }\n",
              "    90% {\n",
              "      border-color: transparent;\n",
              "      border-bottom-color: var(--fill-color);\n",
              "    }\n",
              "  }\n",
              "</style>\n",
              "\n",
              "  <script>\n",
              "    async function quickchart(key) {\n",
              "      const quickchartButtonEl =\n",
              "        document.querySelector('#' + key + ' button');\n",
              "      quickchartButtonEl.disabled = true;  // To prevent multiple clicks.\n",
              "      quickchartButtonEl.classList.add('colab-df-spinner');\n",
              "      try {\n",
              "        const charts = await google.colab.kernel.invokeFunction(\n",
              "            'suggestCharts', [key], {});\n",
              "      } catch (error) {\n",
              "        console.error('Error during call to suggestCharts:', error);\n",
              "      }\n",
              "      quickchartButtonEl.classList.remove('colab-df-spinner');\n",
              "      quickchartButtonEl.classList.add('colab-df-quickchart-complete');\n",
              "    }\n",
              "    (() => {\n",
              "      let quickchartButtonEl =\n",
              "        document.querySelector('#df-96de98b8-75c6-4183-be9c-186f87857c17 button');\n",
              "      quickchartButtonEl.style.display =\n",
              "        google.colab.kernel.accessAllowed ? 'block' : 'none';\n",
              "    })();\n",
              "  </script>\n",
              "</div>\n",
              "\n",
              "    </div>\n",
              "  </div>\n"
            ],
            "application/vnd.google.colaboratory.intrinsic+json": {
              "type": "dataframe",
              "variable_name": "data"
            }
          },
          "metadata": {},
          "execution_count": 86
        }
      ]
    },
    {
      "cell_type": "code",
      "source": [
        "from sklearn.ensemble import RandomForestRegressor\n",
        "from sklearn.metrics import mean_squared_error\n",
        "from surprise import Reader, Dataset, SVD\n",
        "from sklearn.model_selection import train_test_split\n",
        "import pandas as pd\n",
        "import numpy as np\n",
        "import ipywidgets as widgets\n",
        "from IPython.display import display\n",
        "\n",
        "# 1. Prepare Data for Collaborative Filtering\n",
        "reader = Reader(rating_scale=(1, 5))\n",
        "interaction_data = data[['customer_id', 'product_id', 'review_score']].dropna()\n",
        "interaction_dataset = Dataset.load_from_df(interaction_data, reader)\n",
        "trainset = interaction_dataset.build_full_trainset()\n",
        "\n",
        "# 2. Train SVD Model\n",
        "svd = SVD()\n",
        "svd.fit(trainset)\n",
        "\n",
        "# 3. Extract Latent Factors\n",
        "customer_latent = {uid: svd.pu[idx] for idx, uid in enumerate(trainset.all_users())}\n",
        "product_latent = {iid: svd.qi[idx] for idx, iid in enumerate(trainset.all_items())}\n",
        "\n",
        "# 4. Add Latent Factors to DataFrame\n",
        "data['customer_latent'] = data['customer_id'].map(customer_latent).apply(lambda x: list(x) if isinstance(x, np.ndarray) else [0]*10)\n",
        "data['product_latent'] = data['product_id'].map(product_latent).apply(lambda x: list(x) if isinstance(x, np.ndarray) else [0]*10)\n",
        "\n",
        "# 5. Prepare Features for Random Forest\n",
        "content_features = ['avg_review_score', 'num_reviews', 'order_products_value', 'order_freight_value']\n",
        "latent_features = [f'customer_latent_{i}' for i in range(10)] + [f'product_latent_{i}' for i in range(10)]\n",
        "# Creating latent feature names\n",
        "\n",
        "# Expand latent features into separate columns\n",
        "latent_df = pd.DataFrame(data['customer_latent'].tolist(), columns=[f'customer_latent_{i}' for i in range(10)])\n",
        "latent_df = pd.concat([latent_df, pd.DataFrame(data['product_latent'].tolist(), columns=[f'product_latent_{i}' for i in range(10)])], axis=1)\n",
        "data = pd.concat([data, latent_df], axis=1)  # Concatenating latent features to data\n",
        "\n",
        "# 6. Train Random Forest\n",
        "all_features = content_features + latent_features  # Combining all features\n",
        "X = data[all_features]\n",
        "y = data['review_score']\n",
        "X_train, X_test, y_train, y_test = train_test_split(X, y, test_size=0.2, random_state=42)\n",
        "\n",
        "rf = RandomForestRegressor(n_estimators=100, random_state=42)\n",
        "rf.fit(X_train, y_train)\n",
        "\n",
        "# 7. Evaluate Model\n",
        "y_pred = rf.predict(X_test)\n",
        "rmse = np.sqrt(mean_squared_error(y_test, y_pred))\n",
        "print(f\"Random Forest RMSE: {rmse:.4f}\")\n",
        "\n",
        "# ... (Previous code for model training and evaluation) ...\n",
        "\n",
        "# 8. Prediction for a Specific Customer (Enhanced)\n",
        "def recommend_products_for_customer(customer_id, top_n=5):\n",
        "    \"\"\"Recommends products for a given customer.\n",
        "\n",
        "    Args:\n",
        "        customer_id (str): The ID of the customer.\n",
        "        top_n (int, optional): The number of products to recommend. Defaults to 5.\n",
        "\n",
        "    Returns:\n",
        "        list: A list of recommended product IDs.\n",
        "    \"\"\"\n",
        "    specific_customer_data = data[data['customer_id'] == customer_id]\n",
        "\n",
        "    if not specific_customer_data.empty:  # Existing customer\n",
        "        pred_ratings = rf.predict(specific_customer_data[all_features])\n",
        "        top_indices = np.argsort(pred_ratings)[-top_n:][::-1]\n",
        "        recommended_products = specific_customer_data['product_id'].iloc[top_indices].tolist()\n",
        "    else:  # New customer (cold start)\n",
        "        # Recommend popular products or products from similar categories\n",
        "        # (You'll need to implement this logic based on your data)\n",
        "        # For example, you could recommend the top-rated products overall:\n",
        "        popular_products = data.groupby('product_id')['review_score'].mean().sort_values(ascending=False).index\n",
        "        recommended_products = popular_products[:top_n].tolist()\n",
        "\n",
        "    print(f\"Top {top_n} recommended products for customer {customer_id}:\")\n",
        "    for product_id in recommended_products:\n",
        "        product_name = data[data['product_id'] == product_id]['product_category_name'].iloc[0]\n",
        "        print(product_id, \"-\", product_name)\n",
        "\n",
        "    return recommended_products\n",
        "\n",
        "# Create a text box widget\n",
        "customer_id_input = widgets.Text(\n",
        "    value='',\n",
        "    description='Enter Customer ID:',\n",
        "    placeholder='e.g., e33c250311160298e5b457ca52720a35',\n",
        ")\n",
        "\n",
        "# Create an output widget to display recommendations\n",
        "recommendations_output = widgets.Output()\n",
        "\n",
        "# Define a function to handle button click\n",
        "def on_button_clicked(b):\n",
        "    with recommendations_output:\n",
        "        recommendations_output.clear_output()  # Clear previous output\n",
        "        customer_id = customer_id_input.value\n",
        "        recommend_products_for_customer(customer_id)\n",
        "\n",
        "# Create a button widget\n",
        "recommend_button = widgets.Button(description='Get Recommendations')\n",
        "recommend_button.on_click(on_button_clicked)\n",
        "\n",
        "# Display the widgets\n",
        "display(customer_id_input, recommend_button, recommendations_output)\n"
      ],
      "metadata": {
        "colab": {
          "base_uri": "https://localhost:8080/",
          "height": 202,
          "referenced_widgets": [
            "330f8b2b80914b30b4b401dd1dd8a836",
            "dd24a03d8bef45d9a5728fc8418751d1",
            "67399f00050e4c60a2a6016b3084b4ec",
            "268726e2eef14a8e908c64ea80b96e6a",
            "a63d0c0d68214a1e843ca81910e8278d",
            "b12bd641543948d9a85532f98aa84ffd",
            "e0691d0a683b480998a49c8461014873",
            "320127a3cb584982aee9e641b2acb731"
          ]
        },
        "id": "YMTni0knQYig",
        "outputId": "5940403e-e873-4ebc-e466-f9c513d9ba24"
      },
      "execution_count": null,
      "outputs": [
        {
          "output_type": "stream",
          "name": "stdout",
          "text": [
            "Random Forest RMSE: 1.2484\n"
          ]
        },
        {
          "output_type": "display_data",
          "data": {
            "text/plain": [
              "Text(value='', description='Enter Customer ID:', placeholder='e.g., e33c250311160298e5b457ca52720a35')"
            ],
            "application/vnd.jupyter.widget-view+json": {
              "version_major": 2,
              "version_minor": 0,
              "model_id": "330f8b2b80914b30b4b401dd1dd8a836"
            }
          },
          "metadata": {}
        },
        {
          "output_type": "display_data",
          "data": {
            "text/plain": [
              "Button(description='Get Recommendations', style=ButtonStyle())"
            ],
            "application/vnd.jupyter.widget-view+json": {
              "version_major": 2,
              "version_minor": 0,
              "model_id": "268726e2eef14a8e908c64ea80b96e6a"
            }
          },
          "metadata": {}
        },
        {
          "output_type": "display_data",
          "data": {
            "text/plain": [
              "Output()"
            ],
            "application/vnd.jupyter.widget-view+json": {
              "version_major": 2,
              "version_minor": 0,
              "model_id": "e0691d0a683b480998a49c8461014873"
            }
          },
          "metadata": {}
        }
      ]
    },
    {
      "cell_type": "code",
      "source": [
        "# Evaluate the model\n",
        "y_pred = rf.predict(X_test)\n",
        "rmse = np.sqrt(mean_squared_error(y_test, y_pred))\n",
        "print(f\"Hybrid Model RMSE: {rmse:.4f}\")"
      ],
      "metadata": {
        "colab": {
          "base_uri": "https://localhost:8080/"
        },
        "id": "CetBls95S2p-",
        "outputId": "cc0d4137-df9a-4fb7-9c91-e3c12d58790c"
      },
      "execution_count": null,
      "outputs": [
        {
          "output_type": "stream",
          "name": "stdout",
          "text": [
            "Hybrid Model RMSE: 1.2484\n"
          ]
        }
      ]
    },
    {
      "cell_type": "markdown",
      "source": [
        "# Save the Models"
      ],
      "metadata": {
        "id": "ntSYCJ3tUsOm"
      }
    },
    {
      "cell_type": "code",
      "source": [
        "import joblib  # Import joblib for saving and loading models\n",
        "\n",
        "# Saving Content-Based Filtering components\n",
        "joblib.dump(tfidf, 'content_based_tfidf.pkl')\n",
        "joblib.dump(scaler, 'content_based_scaler.pkl')\n",
        "\n",
        "# Saving Collaborative Filtering (SVD) model\n",
        "joblib.dump(svd, 'collaborative_filtering_model.pkl')\n",
        "\n",
        "# Saving Hybrid Model (RandomForestRegressor)\n",
        "joblib.dump(rf, 'hybrid_model.pkl')"
      ],
      "metadata": {
        "colab": {
          "base_uri": "https://localhost:8080/"
        },
        "id": "zyWQ4Kv4UJHM",
        "outputId": "06a29752-8d6a-4119-ffa2-95393b2dc60f"
      },
      "execution_count": null,
      "outputs": [
        {
          "output_type": "execute_result",
          "data": {
            "text/plain": [
              "['hybrid_model.pkl']"
            ]
          },
          "metadata": {},
          "execution_count": 105
        }
      ]
    },
    {
      "cell_type": "markdown",
      "source": [
        "# Load the Saved Models"
      ],
      "metadata": {
        "id": "qIe_--V8Uu0k"
      }
    },
    {
      "cell_type": "code",
      "source": [
        "import joblib\n",
        "\n",
        "# Content-Based Filtering components\n",
        "loaded_tfidf = joblib.load('content_based_tfidf.pkl')\n",
        "loaded_scaler = joblib.load('content_based_scaler.pkl')\n",
        "\n",
        "# Collaborative Filtering (SVD) model\n",
        "loaded_svd = joblib.load('collaborative_filtering_model.pkl')\n",
        "\n",
        "# Hybrid Model (RandomForestRegressor)\n",
        "loaded_rf = joblib.load('hybrid_model.pkl')"
      ],
      "metadata": {
        "id": "9O4DO2-5UPzV"
      },
      "execution_count": null,
      "outputs": []
    },
    {
      "cell_type": "markdown",
      "source": [
        "# Using the Loaded Models"
      ],
      "metadata": {
        "id": "RUgTcpS6U9d2"
      }
    },
    {
      "cell_type": "code",
      "source": [
        "predictions = loaded_svd.test(testset)  # Use loaded_svd for prediction\n",
        "\n",
        "# Example usage for Hybrid Model\n",
        "# ... (Prepare your data with content and latent features) ...\n",
        "y_pred = loaded_rf.predict(X_test)  # Use loaded_rf for prediction"
      ],
      "metadata": {
        "id": "gKQh-DiPU6gu"
      },
      "execution_count": null,
      "outputs": []
    }
  ]
}
